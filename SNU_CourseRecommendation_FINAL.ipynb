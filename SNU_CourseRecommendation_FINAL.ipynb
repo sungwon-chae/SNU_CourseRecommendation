{
 "cells": [
  {
   "cell_type": "markdown",
   "metadata": {},
   "source": [
    "### SNU course recommendation FINAL"
   ]
  },
  {
   "cell_type": "markdown",
   "metadata": {},
   "source": [
    "powered by Sungwon CHAE, Byounggyu LEW   \n",
    "Undergraduate, dept. of Industrial Engineering  \n",
    "Seoul National University"
   ]
  },
  {
   "cell_type": "markdown",
   "metadata": {},
   "source": [
    "#### MODEL DESCRIPTION"
   ]
  },
  {
   "cell_type": "markdown",
   "metadata": {},
   "source": [
    "PREPROCESSING : LOWER, TOKENIZATION, STOP_WORD REMOVAL, DELETE NUMBERS, DELETE PUNCTUATIONS, STRIP, DELETE MOST COMMON WORDS (70 DELETED IN THIS MODEL)"
   ]
  },
  {
   "cell_type": "markdown",
   "metadata": {},
   "source": [
    "MODEL PARAMETER : MAX_EPOCHS = 30, VECTOR_SIZE = 100, ALPHA = 0.05, MIN_ALPHA = 0.0005, MIN_COUNT = 1, PV_DM ALGORITHM"
   ]
  },
  {
   "cell_type": "code",
   "execution_count": 3,
   "metadata": {},
   "outputs": [],
   "source": [
    "from gensim.models.doc2vec import Doc2Vec, TaggedDocument"
   ]
  },
  {
   "cell_type": "code",
   "execution_count": 4,
   "metadata": {},
   "outputs": [],
   "source": [
    "class CourseRecommender:\n",
    "    def __init__(self, eng_name, kor_name):\n",
    "        self.eng_model = Doc2Vec.load(eng_name)\n",
    "        self.kor_model = Doc2Vec.load(kor_name)\n",
    "    \n",
    "    def keywordRecommend(self, keyword, topn):\n",
    "        recommend_list = self.kor_model.wv.most_similar(keyword, topn=topn)\n",
    "        print(list(map(lambda x : x[0], recommend_list)))\n",
    "        \n",
    "    def courseRecommend(self, course, topn):\n",
    "        base = dict(self.kor_model.docvecs.most_similar(course, topn=100))\n",
    "        english = dict(self.eng_model.docvecs.most_similar(course, topn=100))\n",
    "        \n",
    "        for vector in english.items():\n",
    "            if vector[0] in base.keys():\n",
    "                base[vector[0]] = (base[vector[0]] + vector[1])/2\n",
    "            else:\n",
    "                base[vector[0]] = vector[1]\n",
    "                \n",
    "            result = sorted(list(base.keys()), key = lambda x : base[x], reverse=True)\n",
    "        \n",
    "        print(result[:topn])\n",
    "        \n",
    "    def courseRecommendKeyword(self, keyword, topn):\n",
    "        vec = self.kor_model.wv[keyword]\n",
    "        recommend_list = self.kor_model.docvecs.most_similar([vec], topn=topn)\n",
    "        print(list(map(lambda x : x[0], recommend_list)))"
   ]
  },
  {
   "cell_type": "code",
   "execution_count": 5,
   "metadata": {},
   "outputs": [],
   "source": [
    "recommender = CourseRecommender('english_d2v.model', 'korean_d2v.model')"
   ]
  },
  {
   "cell_type": "markdown",
   "metadata": {},
   "source": [
    "#### keywordRecommend : keyword ➡ keyword"
   ]
  },
  {
   "cell_type": "code",
   "execution_count": 13,
   "metadata": {},
   "outputs": [
    {
     "name": "stdout",
     "output_type": "stream",
     "text": [
      "키워드를 입력하세요 : AR\n",
      "['인터랙티브', 'print', '레고', '선생님', '그래픽디자인', '정보디자인', 'VR', '퉁', '가에', '키워나']\n"
     ]
    }
   ],
   "source": [
    "recommender.keywordRecommend(input('키워드를 입력하세요 : '), 10)"
   ]
  },
  {
   "cell_type": "code",
   "execution_count": 11,
   "metadata": {},
   "outputs": [
    {
     "name": "stdout",
     "output_type": "stream",
     "text": [
      "키워드를 입력하세요 : 편미분\n",
      "['라플라스', '풀기', 'SturmLiouville', '와송', '푸리', 'Monte', '적분법', 'Laplace', '미분법', 'Carlo']\n"
     ]
    }
   ],
   "source": [
    "recommender.keywordRecommend(input('키워드를 입력하세요 : '), 10)"
   ]
  },
  {
   "cell_type": "markdown",
   "metadata": {},
   "source": [
    "#### courseRecommend : course ➡ course"
   ]
  },
  {
   "cell_type": "code",
   "execution_count": 5,
   "metadata": {},
   "outputs": [
    {
     "name": "stdout",
     "output_type": "stream",
     "text": [
      "강좌명을 입력하세요 : 물리학\n",
      "['물리학실험 2', '물리학 1', '에너지자원역학', '핵공학 현대물리', '일반화학및실험 2', '물리화학', '재료현대물리', '역학 1', '수학적 모델링 및 전산실험', '에너지화학']\n"
     ]
    }
   ],
   "source": [
    "recommender.courseRecommend(input('강좌명을 입력하세요 : '), 10)"
   ]
  },
  {
   "cell_type": "code",
   "execution_count": 6,
   "metadata": {},
   "outputs": [
    {
     "name": "stdout",
     "output_type": "stream",
     "text": [
      "강좌명을 입력하세요 : 선형대수학\n",
      "['실변수함수론', '다변수함수론', '실해석학', '복소해석학', '경영학을 위한 수학', '미적분학의 첫걸음', '현대대수학', '해석개론 1', '생명과학을 위한 수학 2', '인문사회계를 위한 수학 1']\n"
     ]
    }
   ],
   "source": [
    "recommender.courseRecommend(input('강좌명을 입력하세요 : '), 10)"
   ]
  },
  {
   "cell_type": "markdown",
   "metadata": {},
   "source": [
    "#### courseRecommendkeyword : keyword ➡ course"
   ]
  },
  {
   "cell_type": "code",
   "execution_count": 25,
   "metadata": {},
   "outputs": [
    {
     "name": "stdout",
     "output_type": "stream",
     "text": [
      "키워드를 입력하시면 강좌를 추천하겠습니다 : Artificial\n",
      "추천받을 강좌의 수 : 7\n",
      "['휴먼컴퓨터인터페이스', '정수론과 암호', '프로그래밍언어', '전기전자 미디어실습 1', '알고리즘', '산업시스템설계프로젝트', '에너지원격탐사']\n"
     ]
    }
   ],
   "source": [
    "recommender.courseRecommendKeyword(input('키워드를 입력하시면 강좌를 추천하겠습니다 : '), int(input('추천받을 강좌의 수 : ')))"
   ]
  },
  {
   "cell_type": "code",
   "execution_count": 9,
   "metadata": {},
   "outputs": [
    {
     "name": "stdout",
     "output_type": "stream",
     "text": [
      "키워드를 입력하시면 강좌를 추천하겠습니다 : 생리학\n",
      "추천받을 강좌의 수 : 5\n",
      "['생물과학실험 4', '유전생화학', '수의생리학 및 실습 2', '동물생리학', '인체생화학']\n"
     ]
    }
   ],
   "source": [
    "recommender.courseRecommendKeyword(input('키워드를 입력하시면 강좌를 추천하겠습니다 : '), int(input('추천받을 강좌의 수 : ')))"
   ]
  },
  {
   "cell_type": "markdown",
   "metadata": {},
   "source": [
    "___"
   ]
  },
  {
   "cell_type": "markdown",
   "metadata": {},
   "source": [
    "powered by Sungwon CHAE, Byounggyu LEW  \n",
    "Undergraduate, dept. of Industrial Engineering   \n",
    "Seoul National University   \n",
    "2020 Spring Semester - GSDS: NLP_Analysis_w/Embedding"
   ]
  },
  {
   "cell_type": "markdown",
   "metadata": {},
   "source": [
    "____"
   ]
  }
 ],
 "metadata": {
  "kernelspec": {
   "display_name": "Python 3",
   "language": "python",
   "name": "python3"
  },
  "language_info": {
   "codemirror_mode": {
    "name": "ipython",
    "version": 3
   },
   "file_extension": ".py",
   "mimetype": "text/x-python",
   "name": "python",
   "nbconvert_exporter": "python",
   "pygments_lexer": "ipython3",
   "version": "3.7.2"
  }
 },
 "nbformat": 4,
 "nbformat_minor": 2
}
